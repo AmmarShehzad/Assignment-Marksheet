{
 "cells": [
  {
   "cell_type": "markdown",
   "metadata": {},
   "source": [
    "<h3>Q no 1:  Write a python program to find number of occurrences of given number in a list with out using built-in methods</h3>\n",
    "<h4>**1 generate a list of some random num which is repeated again and again</h4>\n",
    "<h4>**2 take user input any number</h4>\n",
    "<h4>**3 find the number of occurrences of that num in your list</h4>\n",
    "<h4>**4 print some message to user with that result</h4>"
   ]
  },
  {
   "cell_type": "code",
   "execution_count": 2,
   "metadata": {},
   "outputs": [
    {
     "name": "stdout",
     "output_type": "stream",
     "text": [
      " enter any number : 3\n",
      "[27, 41, 74, 35, 67, 78, 34, 81, 58, 12]\n",
      "No Of Occurances are :  0\n"
     ]
    }
   ],
   "source": [
    "import random\n",
    "task1 = random.sample(range(1,100),10)\n",
    "num = int(input(\" enter any number : \"))\n",
    "print(task1)\n",
    "print('No Of Occurances are : ' ,task1.count(num))\n"
   ]
  },
  {
   "cell_type": "code",
   "execution_count": null,
   "metadata": {},
   "outputs": [],
   "source": []
  },
  {
   "cell_type": "markdown",
   "metadata": {},
   "source": [
    "<h3>Q no 2:   [\"www.zframez.com\", \"www.wikipedia.org\", \"www.asp.net\", \"www.abcd.in\"]\n",
    "<br/><br/><br/><br/><br/>\n",
    "Write a python program to print website suffixes (com , org , net ,in) from this list\n",
    "</h3>"
   ]
  },
  {
   "cell_type": "code",
   "execution_count": 80,
   "metadata": {},
   "outputs": [
    {
     "name": "stdout",
     "output_type": "stream",
     "text": [
      "com\n",
      "org\n",
      "net\n",
      "in\n"
     ]
    }
   ],
   "source": [
    "data =  [\"www.zframez.com\", \"www.wikipedia.org\", \"www.asp.net\", \"www.abcd.in\"]\n",
    "list1 = data[0].split('.' ,maxsplit=2)\n",
    "print(list1[2])\n",
    "\n",
    "list2 = data[1].split('.' ,maxsplit=2)\n",
    "print(list2[2])\n",
    "\n",
    "list3 = data[2].split('.' ,maxsplit=2)\n",
    "print(list3[2])\n",
    "\n",
    "list4 = data[3].split('.' ,maxsplit=2)\n",
    "print(list4[2])"
   ]
  },
  {
   "cell_type": "code",
   "execution_count": null,
   "metadata": {},
   "outputs": [],
   "source": []
  },
  {
   "cell_type": "markdown",
   "metadata": {},
   "source": [
    "<h3> Q no 3 : Write a program which can compute the factorial of a given numbers.</h3>\n",
    "<br/>\n",
    "<br/>\n",
    "<h4>**1 first take user input any number</h4>\n",
    "<h4>**2 calculate factorial of that input and then print the result to user</h4>"
   ]
  },
  {
   "cell_type": "code",
   "execution_count": 3,
   "metadata": {},
   "outputs": [
    {
     "name": "stdout",
     "output_type": "stream",
     "text": [
      " enter any number : 5\n",
      "120\n"
     ]
    }
   ],
   "source": [
    "def fact(n):\n",
    "    if (n==0) :\n",
    "        return 1\n",
    "    else : \n",
    "        return n*fact(n-1)\n",
    "num = int(input(\" enter any number : \"))\n",
    "print(fact(num))"
   ]
  },
  {
   "cell_type": "code",
   "execution_count": null,
   "metadata": {},
   "outputs": [],
   "source": []
  },
  {
   "cell_type": "code",
   "execution_count": null,
   "metadata": {},
   "outputs": [],
   "source": []
  },
  {
   "cell_type": "code",
   "execution_count": null,
   "metadata": {},
   "outputs": [],
   "source": []
  },
  {
   "cell_type": "markdown",
   "metadata": {},
   "source": [
    "<h3>Q 4 (a) :  If you could invite anyone, living or deceased, to dinner, who\n",
    "would you invite? Make a list that includes at least three people you’d like to\n",
    "invite to dinner. Then use your list to print a message to each person, inviting\n",
    "them to dinner.</h3>"
   ]
  },
  {
   "cell_type": "code",
   "execution_count": 50,
   "metadata": {},
   "outputs": [
    {
     "name": "stdout",
     "output_type": "stream",
     "text": [
      "Hello Mr. Ammar  , You are invited to our place for dinner , thankyou :)\n",
      "Hello Mr. Umair  , You are invited to our place for dinner , thankyou :)\n",
      "Hello Mr. Abdullah  , You are invited to our place for dinner , thankyou :)\n",
      "Hello Mr. Arfain  , You are invited to our place for dinner , thankyou :)\n",
      "Hello Mr. Umair  , You are invited to our place for dinner , thankyou :)\n",
      "Hello Mr. Abdullah  , You are invited to our place for dinner , thankyou :)\n"
     ]
    }
   ],
   "source": [
    "myList = ['Ammar','Umair','Abdullah']\n",
    "for name in myList :\n",
    "    print('Hello Mr.',name,' , You are invited to our place for dinner , thankyou :)')\n"
   ]
  },
  {
   "cell_type": "code",
   "execution_count": null,
   "metadata": {},
   "outputs": [],
   "source": []
  },
  {
   "cell_type": "code",
   "execution_count": null,
   "metadata": {},
   "outputs": [],
   "source": []
  },
  {
   "cell_type": "markdown",
   "metadata": {},
   "source": [
    "<h3>Q 4 (b) : You just heard that one of your guests can’t make the\n",
    "dinner, so you need to send out a new set of invitations. You’ll have to think of\n",
    "someone else to invite.<br/></br><br/>\n",
    "•\t Start with your program from Q 4 (a). Add a print statement at the\n",
    "end of your program stating the name of the guest who can’t make it.<br/></br><br/>\n",
    "•\t Modify your list, replacing the name of the guest who can’t make it with\n",
    "the name of the new person you are inviting.<br/></br><br/>\n",
    "•\t Print a second set of invitation messages, one for each person who is still\n",
    "in your list.<br/></br><br/></h3>"
   ]
  },
  {
   "cell_type": "code",
   "execution_count": 51,
   "metadata": {},
   "outputs": [
    {
     "name": "stdout",
     "output_type": "stream",
     "text": [
      "Hello Mr. Arfain  , You are invited to our place for dinner , thankyou :)\n",
      "Hello Mr. Umair  , You are invited to our place for dinner , thankyou :)\n",
      "Hello Mr. Abdullah  , You are invited to our place for dinner , thankyou :)\n"
     ]
    }
   ],
   "source": [
    "myList[0]='Arfain'\n",
    "for name in myList :\n",
    "    print('Hello Mr.',name,' , You are invited to our place for dinner , thankyou :)')"
   ]
  },
  {
   "cell_type": "code",
   "execution_count": null,
   "metadata": {},
   "outputs": [],
   "source": []
  },
  {
   "cell_type": "code",
   "execution_count": null,
   "metadata": {},
   "outputs": [],
   "source": []
  },
  {
   "cell_type": "markdown",
   "metadata": {},
   "source": [
    "<h3>Q 4 (c) : You just found a bigger dinner table, so now more space is\n",
    "available. Think of three more guests to invite to dinner.<br/></br><br/>\n",
    "•\t Start with your program from Q 4 (a) and (b) Add a print\n",
    "statement to the end of your program informing people that you found a\n",
    "bigger dinner table.<br/></br><br/>\n",
    "•\t Use insert() to add one new guest to the beginning of your list.<br/></br><br/>\n",
    "•\t Use insert() to add one new guest to the middle of your list.<br/></br><br/>\n",
    "•\t Use append() to add one new guest to the end of your list.<br/></br><br/>\n",
    "•\t Print a new set of invitation messages, one for each person in your list.<br/></br><br/></h3>"
   ]
  },
  {
   "cell_type": "code",
   "execution_count": 57,
   "metadata": {},
   "outputs": [
    {
     "name": "stdout",
     "output_type": "stream",
     "text": [
      "Hello Mr. Afridi  , You are invited to our place for dinner , thankyou :)\n",
      "Hello Mr. Junaid  , You are invited to our place for dinner , thankyou :)\n",
      "Hello Mr. Arfain  , You are invited to our place for dinner , thankyou :)\n",
      "Hello Mr. Umair  , You are invited to our place for dinner , thankyou :)\n",
      "Hello Mr. Abdullah  , You are invited to our place for dinner , thankyou :)\n",
      "Hello Mr. Younus  , You are invited to our place for dinner , thankyou :)\n"
     ]
    }
   ],
   "source": [
    "myList.insert(0,'Afridi')\n",
    "myList.insert(1,'Junaid')\n",
    "myList.append('Younus')\n",
    "for name in myList :\n",
    "    print('Hello Mr.',name,' , You are invited to our place for dinner , thankyou :)')"
   ]
  },
  {
   "cell_type": "code",
   "execution_count": null,
   "metadata": {},
   "outputs": [],
   "source": []
  },
  {
   "cell_type": "code",
   "execution_count": null,
   "metadata": {},
   "outputs": [],
   "source": []
  },
  {
   "cell_type": "markdown",
   "metadata": {},
   "source": [
    "<h5> Q 5 : Here you have some data in variable below, your task is to make a list of specific word Surah then print the list and length of list</h5>\n"
   ]
  },
  {
   "cell_type": "code",
   "execution_count": null,
   "metadata": {},
   "outputs": [],
   "source": [
    "data = \"Sura I Who believe in the Unseen, Sura Are steadfast in prayer, And spend Sura out of what We Have provided for them;\"\n"
   ]
  },
  {
   "cell_type": "code",
   "execution_count": 5,
   "metadata": {},
   "outputs": [
    {
     "name": "stdout",
     "output_type": "stream",
     "text": [
      "The List Is  ['Sura', 'Sura', 'Sura']\n",
      "The Length Of The List Is  3\n"
     ]
    }
   ],
   "source": [
    "data = \"Sura I Who believe in the Unseen, Sura Are steadfast in prayer, And spend Sura out of what We Have provided for them;\"\n",
    "\n",
    "data_count = data.count(\"Sura\")\n",
    "data_list=[]\n",
    "for i in range(0,data_count) :\n",
    "    if data_count !=0 :\n",
    "        data_list.append(\"Sura\")\n",
    "print(\"The List Is \",data_list)\n",
    "print(\"The Length Of The List Is \",len(data_list))\n"
   ]
  },
  {
   "cell_type": "code",
   "execution_count": null,
   "metadata": {},
   "outputs": [],
   "source": []
  }
 ],
 "metadata": {
  "kernelspec": {
   "display_name": "Python 3",
   "language": "python",
   "name": "python3"
  },
  "language_info": {
   "codemirror_mode": {
    "name": "ipython",
    "version": 3
   },
   "file_extension": ".py",
   "mimetype": "text/x-python",
   "name": "python",
   "nbconvert_exporter": "python",
   "pygments_lexer": "ipython3",
   "version": "3.6.5"
  }
 },
 "nbformat": 4,
 "nbformat_minor": 2
}
