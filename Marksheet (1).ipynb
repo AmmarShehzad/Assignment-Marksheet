{
 "cells": [
  {
   "cell_type": "code",
   "execution_count": 6,
   "metadata": {},
   "outputs": [
    {
     "name": "stdout",
     "output_type": "stream",
     "text": [
      "A+\n",
      "500\n",
      "443\n",
      "88.6\n"
     ]
    }
   ],
   "source": [
    "totalmarks = 500 ;\n",
    "maths = 90 ;\n",
    "urdu = 80 ;\n",
    "chemistry = 95 ;\n",
    "english = 80 ;\n",
    "physics = 98 ;\n",
    "obtainedmarks = urdu+maths+chemistry+physics+english ;\n",
    "percentage = obtainedmarks/totalmarks * 100;\n",
    "grade = \"null\" ;\n",
    "if 90 >= percentage < 100 :\n",
    "    grade = \"A+\" ;\n",
    "\n",
    "if 80 >= percentage < 90 :\n",
    "    grade = \"A\" ;\n",
    "\n",
    "    \n",
    "if 80 >= percentage < 70 :\n",
    "    grade = \"B\" ;\n",
    "    \n",
    "    \n",
    "if 70 >= percentage < 60 :\n",
    "    grade = \"C\" ;\n",
    "    \n",
    "    \n",
    "if percentage < 60 :\n",
    "    grade = \"Fail\" ;\n",
    "\n",
    "print(grade);\n",
    "print(totalmarks);\n",
    "print(obtainedmarks);\n",
    "print(percentage);"
   ]
  },
  {
   "cell_type": "code",
   "execution_count": null,
   "metadata": {},
   "outputs": [],
   "source": []
  }
 ],
 "metadata": {
  "kernelspec": {
   "display_name": "Python 3",
   "language": "python",
   "name": "python3"
  },
  "language_info": {
   "codemirror_mode": {
    "name": "ipython",
    "version": 3
   },
   "file_extension": ".py",
   "mimetype": "text/x-python",
   "name": "python",
   "nbconvert_exporter": "python",
   "pygments_lexer": "ipython3",
   "version": "3.6.5"
  }
 },
 "nbformat": 4,
 "nbformat_minor": 2
}
